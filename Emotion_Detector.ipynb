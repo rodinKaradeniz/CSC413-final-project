{
  "cells": [
    {
      "cell_type": "markdown",
      "metadata": {
        "id": "4Wsz6MExrUjJ"
      },
      "source": [
        "# CSC413 Final Project\n"
      ]
    },
    {
      "cell_type": "markdown",
      "metadata": {
        "id": "7zNoZxVnrUjL"
      },
      "source": [
        "Alp Tarim, Mert Kaya, M. Rodin Karadeniz"
      ]
    },
    {
      "cell_type": "markdown",
      "metadata": {
        "id": "kI-OMB20rUjN"
      },
      "source": [
        "## Introduction"
      ]
    },
    {
      "cell_type": "markdown",
      "metadata": {
        "id": "MDA-NfBnrUjN"
      },
      "source": [
        "\n",
        "For this project, we will be comparing the industry standard Natural Language Processing (NLP) methods:\n",
        "\n",
        "- Recurrent Neural Network (RNN)\n",
        "- Long Short-Term Memory (LSTM)\n",
        "- Attention Network (with LSTM)\n",
        "- Transformers\n",
        "\n",
        "We will be comparing the computational cost, interpretability, and time complexities of each method by using them for the task of emotion detection.\n"
      ]
    },
    {
      "cell_type": "markdown",
      "metadata": {
        "id": "54rscJ9-rUjO"
      },
      "source": [
        "## Setup PyTorch"
      ]
    },
    {
      "cell_type": "markdown",
      "metadata": {
        "id": "3QmpGv6urUjO"
      },
      "source": [
        "### Setup Environment (if running in local environment)\n",
        "\n",
        "Put your environment setup here. You can use `!conda ...` for conda environment installation, or `!pip ...` for pip environment installations\n"
      ]
    },
    {
      "cell_type": "code",
      "execution_count": 17,
      "metadata": {
        "colab": {
          "base_uri": "https://localhost:8080/"
        },
        "id": "2QxG0X6drUjP",
        "outputId": "14af5565-acd1-40d2-8b2d-8faa50769299"
      },
      "outputs": [
        {
          "output_type": "stream",
          "name": "stdout",
          "text": [
            "Requirement already satisfied: tokenizers in /usr/local/lib/python3.7/dist-packages (0.12.1)\n",
            "Collecting transformers\n",
            "  Downloading transformers-4.18.0-py3-none-any.whl (4.0 MB)\n",
            "\u001b[K     |████████████████████████████████| 4.0 MB 7.7 MB/s \n",
            "\u001b[?25hCollecting pyyaml>=5.1\n",
            "  Downloading PyYAML-6.0-cp37-cp37m-manylinux_2_5_x86_64.manylinux1_x86_64.manylinux_2_12_x86_64.manylinux2010_x86_64.whl (596 kB)\n",
            "\u001b[K     |████████████████████████████████| 596 kB 51.5 MB/s \n",
            "\u001b[?25hRequirement already satisfied: tqdm>=4.27 in /usr/local/lib/python3.7/dist-packages (from transformers) (4.64.0)\n",
            "Collecting sacremoses\n",
            "  Downloading sacremoses-0.0.49-py3-none-any.whl (895 kB)\n",
            "\u001b[K     |████████████████████████████████| 895 kB 51.5 MB/s \n",
            "\u001b[?25hRequirement already satisfied: numpy>=1.17 in /usr/local/lib/python3.7/dist-packages (from transformers) (1.21.6)\n",
            "Requirement already satisfied: packaging>=20.0 in /usr/local/lib/python3.7/dist-packages (from transformers) (21.3)\n",
            "Requirement already satisfied: requests in /usr/local/lib/python3.7/dist-packages (from transformers) (2.23.0)\n",
            "Collecting huggingface-hub<1.0,>=0.1.0\n",
            "  Downloading huggingface_hub-0.5.1-py3-none-any.whl (77 kB)\n",
            "\u001b[K     |████████████████████████████████| 77 kB 6.3 MB/s \n",
            "\u001b[?25hRequirement already satisfied: filelock in /usr/local/lib/python3.7/dist-packages (from transformers) (3.6.0)\n",
            "Requirement already satisfied: tokenizers!=0.11.3,<0.13,>=0.11.1 in /usr/local/lib/python3.7/dist-packages (from transformers) (0.12.1)\n",
            "Requirement already satisfied: regex!=2019.12.17 in /usr/local/lib/python3.7/dist-packages (from transformers) (2019.12.20)\n",
            "Requirement already satisfied: importlib-metadata in /usr/local/lib/python3.7/dist-packages (from transformers) (4.11.3)\n",
            "Requirement already satisfied: typing-extensions>=3.7.4.3 in /usr/local/lib/python3.7/dist-packages (from huggingface-hub<1.0,>=0.1.0->transformers) (4.1.1)\n",
            "Requirement already satisfied: pyparsing!=3.0.5,>=2.0.2 in /usr/local/lib/python3.7/dist-packages (from packaging>=20.0->transformers) (3.0.8)\n",
            "Requirement already satisfied: zipp>=0.5 in /usr/local/lib/python3.7/dist-packages (from importlib-metadata->transformers) (3.8.0)\n",
            "Requirement already satisfied: idna<3,>=2.5 in /usr/local/lib/python3.7/dist-packages (from requests->transformers) (2.10)\n",
            "Requirement already satisfied: urllib3!=1.25.0,!=1.25.1,<1.26,>=1.21.1 in /usr/local/lib/python3.7/dist-packages (from requests->transformers) (1.24.3)\n",
            "Requirement already satisfied: chardet<4,>=3.0.2 in /usr/local/lib/python3.7/dist-packages (from requests->transformers) (3.0.4)\n",
            "Requirement already satisfied: certifi>=2017.4.17 in /usr/local/lib/python3.7/dist-packages (from requests->transformers) (2021.10.8)\n",
            "Requirement already satisfied: six in /usr/local/lib/python3.7/dist-packages (from sacremoses->transformers) (1.15.0)\n",
            "Requirement already satisfied: click in /usr/local/lib/python3.7/dist-packages (from sacremoses->transformers) (7.1.2)\n",
            "Requirement already satisfied: joblib in /usr/local/lib/python3.7/dist-packages (from sacremoses->transformers) (1.1.0)\n",
            "Installing collected packages: pyyaml, sacremoses, huggingface-hub, transformers\n",
            "  Attempting uninstall: pyyaml\n",
            "    Found existing installation: PyYAML 3.13\n",
            "    Uninstalling PyYAML-3.13:\n",
            "      Successfully uninstalled PyYAML-3.13\n",
            "Successfully installed huggingface-hub-0.5.1 pyyaml-6.0 sacremoses-0.0.49 transformers-4.18.0\n"
          ]
        }
      ],
      "source": [
        "# code goes here\n",
        "!pip install tokenizers\n",
        "!pip install --upgrade transformers"
      ]
    },
    {
      "cell_type": "markdown",
      "metadata": {
        "id": "cpSd2bfXrUjQ"
      },
      "source": [
        "### Imports\n"
      ]
    },
    {
      "cell_type": "code",
      "execution_count": null,
      "metadata": {
        "id": "IfJrdr-WrUjQ"
      },
      "outputs": [],
      "source": [
        "import torch\n",
        "import torch.nn as nn\n",
        "import torch.nn.functional as F\n",
        "import torch.optim as optim\n",
        "from torch.autograd import Variable\n",
        "import torchtext\n",
        "\n",
        "import numpy as np\n",
        "import matplotlib.pyplot as plt\n",
        "\n",
        "import pandas as pd\n",
        "import re\n",
        "import string\n",
        "import os\n",
        "import math\n",
        "\n",
        "from typing import *"
      ]
    },
    {
      "cell_type": "markdown",
      "metadata": {
        "id": "xUtlvCHJrUjR"
      },
      "source": [
        "### Data"
      ]
    },
    {
      "cell_type": "markdown",
      "metadata": {
        "id": "hsr7ogWKrUjS"
      },
      "source": [
        "#### GoEmotions Setup"
      ]
    },
    {
      "cell_type": "markdown",
      "metadata": {
        "id": "_MexifFNrUjS"
      },
      "source": [
        "##### Download GoEmotions Dataset"
      ]
    },
    {
      "cell_type": "code",
      "execution_count": null,
      "metadata": {
        "colab": {
          "base_uri": "https://localhost:8080/"
        },
        "id": "G_HQJTQirUjS",
        "outputId": "75e9628b-ab47-433f-e150-bd689d7de97a"
      },
      "outputs": [
        {
          "name": "stdout",
          "output_type": "stream",
          "text": [
            "Collecting wget\n",
            "  Downloading wget-3.2.zip (10 kB)\n",
            "Building wheels for collected packages: wget\n",
            "  Building wheel for wget (setup.py) ... \u001b[?25l\u001b[?25hdone\n",
            "  Created wheel for wget: filename=wget-3.2-py3-none-any.whl size=9675 sha256=f31b2a3d8b8c164a62eb60b1469c7cd2c46cdc53e23439cc16aa44d002d3b4f2\n",
            "  Stored in directory: /root/.cache/pip/wheels/a1/b6/7c/0e63e34eb06634181c63adacca38b79ff8f35c37e3c13e3c02\n",
            "Successfully built wget\n",
            "Installing collected packages: wget\n",
            "Successfully installed wget-3.2\n",
            "--2022-04-23 02:11:06--  https://storage.googleapis.com/gresearch/goemotions/data/full_dataset/goemotions_1.csv\n",
            "Resolving storage.googleapis.com (storage.googleapis.com)... 74.125.20.128, 74.125.142.128, 74.125.195.128, ...\n",
            "Connecting to storage.googleapis.com (storage.googleapis.com)|74.125.20.128|:443... connected.\n",
            "HTTP request sent, awaiting response... 200 OK\n",
            "Length: 14174600 (14M) [application/octet-stream]\n",
            "Saving to: ‘data/full_dataset/goemotions_1.csv’\n",
            "\n",
            "goemotions_1.csv    100%[===================>]  13.52M  --.-KB/s    in 0.1s    \n",
            "\n",
            "2022-04-23 02:11:06 (96.8 MB/s) - ‘data/full_dataset/goemotions_1.csv’ saved [14174600/14174600]\n",
            "\n",
            "--2022-04-23 02:11:06--  https://storage.googleapis.com/gresearch/goemotions/data/full_dataset/goemotions_2.csv\n",
            "Resolving storage.googleapis.com (storage.googleapis.com)... 173.194.202.128, 74.125.20.128, 74.125.142.128, ...\n",
            "Connecting to storage.googleapis.com (storage.googleapis.com)|173.194.202.128|:443... connected.\n",
            "HTTP request sent, awaiting response... 200 OK\n",
            "Length: 14173154 (14M) [application/octet-stream]\n",
            "Saving to: ‘data/full_dataset/goemotions_2.csv’\n",
            "\n",
            "goemotions_2.csv    100%[===================>]  13.52M  89.4MB/s    in 0.2s    \n",
            "\n",
            "2022-04-23 02:11:07 (89.4 MB/s) - ‘data/full_dataset/goemotions_2.csv’ saved [14173154/14173154]\n",
            "\n",
            "--2022-04-23 02:11:07--  https://storage.googleapis.com/gresearch/goemotions/data/full_dataset/goemotions_3.csv\n",
            "Resolving storage.googleapis.com (storage.googleapis.com)... 74.125.142.128, 74.125.195.128, 74.125.20.128, ...\n",
            "Connecting to storage.googleapis.com (storage.googleapis.com)|74.125.142.128|:443... connected.\n",
            "HTTP request sent, awaiting response... 200 OK\n",
            "Length: 14395164 (14M) [application/octet-stream]\n",
            "Saving to: ‘data/full_dataset/goemotions_3.csv’\n",
            "\n",
            "goemotions_3.csv    100%[===================>]  13.73M  --.-KB/s    in 0.1s    \n",
            "\n",
            "2022-04-23 02:11:07 (135 MB/s) - ‘data/full_dataset/goemotions_3.csv’ saved [14395164/14395164]\n",
            "\n"
          ]
        }
      ],
      "source": [
        "# Make sure you have wget installed with:\n",
        "!pip install wget\n",
        "\n",
        "!wget -nc -P data/full_dataset/ https://storage.googleapis.com/gresearch/goemotions/data/full_dataset/goemotions_1.csv\n",
        "!wget -nc -P data/full_dataset/ https://storage.googleapis.com/gresearch/goemotions/data/full_dataset/goemotions_2.csv\n",
        "!wget -nc -P data/full_dataset/ https://storage.googleapis.com/gresearch/goemotions/data/full_dataset/goemotions_3.csv"
      ]
    },
    {
      "cell_type": "markdown",
      "metadata": {
        "id": "XHdiOHiXrUjV"
      },
      "source": [
        "##### Read GoEmotion CSVs"
      ]
    },
    {
      "cell_type": "code",
      "execution_count": null,
      "metadata": {
        "id": "Ap6XfyukrUjW"
      },
      "outputs": [],
      "source": [
        "EMOTIONS = ['admiration', 'amusement', 'anger', 'annoyance', 'approval', 'caring', 'confusion', 'curiosity', 'desire',\n",
        "            'disappointment', 'disapproval', 'disgust', 'embarrassment', 'excitement', 'fear', 'gratitude', 'grief',\n",
        "            'joy', 'love', 'nervousness', 'optimism', 'pride', 'realization', 'relief', 'remorse', 'sadness',\n",
        "            'surprise', 'neutral']\n",
        "\n",
        "EMOTION_GROUPS = {\n",
        "    \"anger\": [\"anger\", \"annoyance\", \"disapproval\"],\n",
        "    \"disgust\": [\"disgust\"],\n",
        "    \"fear\": [\"fear\", \"nervousness\"],\n",
        "    \"joy\": [\"joy\", \"amusement\", \"approval\", \"excitement\", \"gratitude\",  \"love\", \"optimism\", \"relief\", \"pride\", \"admiration\", \"desire\", \"caring\"],\n",
        "    \"sadness\": [\"sadness\", \"disappointment\", \"embarrassment\", \"grief\",  \"remorse\"],\n",
        "    \"surprise\": [\"surprise\", \"realization\", \"confusion\", \"curiosity\"],\n",
        "    \"neutral\": [\"neutral\"],\n",
        "}\n",
        "\n",
        "\n",
        "def read_goemotions(full_dataset_path: str) -> pd.DataFrame:\n",
        "    used_cols = ['text'] + EMOTIONS\n",
        "\n",
        "    DATA_GOEMOTIONS1_UNPROCESSED = pd.read_csv(\n",
        "        f\"{full_dataset_path}/goemotions_1.csv\", usecols=used_cols, header=0)\n",
        "    DATA_GOEMOTIONS2_UNPROCESSED = pd.read_csv(\n",
        "        f\"{full_dataset_path}/goemotions_1.csv\", usecols=used_cols, header=0)\n",
        "    DATA_GOEMOTIONS3_UNPROCESSED = pd.read_csv(\n",
        "        f\"{full_dataset_path}/goemotions_1.csv\", usecols=used_cols, header=0)\n",
        "    return pd.concat([DATA_GOEMOTIONS1_UNPROCESSED,\n",
        "                      DATA_GOEMOTIONS2_UNPROCESSED,\n",
        "                      DATA_GOEMOTIONS3_UNPROCESSED])\n"
      ]
    },
    {
      "cell_type": "markdown",
      "metadata": {
        "id": "DLd5LhXxrUjW"
      },
      "source": [
        "##### Process Emotions From File"
      ]
    },
    {
      "cell_type": "code",
      "execution_count": null,
      "metadata": {
        "id": "p11O-OcfrUjX"
      },
      "outputs": [],
      "source": [
        "def process_goemotions_dataset(table: pd.DataFrame) -> pd.DataFrame:\n",
        "    new_table = table.copy()\n",
        "\n",
        "    categories = EMOTION_GROUPS.keys()\n",
        "    category_indices = [i for i in range(len(categories))]\n",
        "    \n",
        "    for group in categories:\n",
        "        new_table[group] = new_table.loc[:, EMOTION_GROUPS[group]].sum(axis=1)\n",
        "        new_table[group] = (new_table[group] != 0).astype(int)\n",
        "    \n",
        "    sum_ = new_table.loc[:, categories].sum(axis=1)\n",
        "    # print(sum_ > 1 | sum_ == 0)\n",
        "    \n",
        "    new_table = new_table.drop(new_table[((sum_ > 1) | (sum_ == 0))].index)\n",
        "    \n",
        "    new_table['emotion'] = new_table.loc[:, categories] @ category_indices\n",
        "\n",
        "    emotion_not_category = [i for i in EMOTIONS if i not in categories]\n",
        "\n",
        "    return new_table.drop(emotion_not_category, axis=1)"
      ]
    },
    {
      "cell_type": "markdown",
      "metadata": {
        "id": "YOiaE0x5rUjX"
      },
      "source": [
        "#### Filter, Tokenize, Pad the GoEmotions Text"
      ]
    },
    {
      "cell_type": "markdown",
      "metadata": {
        "id": "V5qDqvcYrUjX"
      },
      "source": [
        "This part of the implementation is based from GoEmotions [GitHub](https://github.com/google-research/google-research/tree/master/goemotions), specifically the [`extract_words.py`](https://github.com/google-research/google-research/blob/master/goemotions/extract_words.py) file.\n",
        "\n",
        "THIS PART IS CURRENTLY USELESS IN THE PROJECT\n"
      ]
    },
    {
      "cell_type": "code",
      "execution_count": null,
      "metadata": {
        "id": "0otTs0BcrUjY"
      },
      "outputs": [],
      "source": [
        "punct_chars = list((set(string.punctuation) | {\n",
        "  \"’\", \"‘\", \"–\", \"—\", \"~\", \"|\", \"“\", \"”\", \"…\", \"'\", \"`\", \"_\",\n",
        "  \"“\"\n",
        "}) - set([\"#\"]))\n",
        "punct_chars.sort()\n",
        "punctuation = \"\".join(punct_chars)\n",
        "replace = re.compile(\"[%s]\" % re.escape(punctuation))\n",
        "\n",
        "\n",
        "def clean_text(text):\n",
        "    if isinstance(text, float):\n",
        "        return []\n",
        "    # lower case\n",
        "    text = text.lower()\n",
        "    # eliminate urls\n",
        "    text = re.sub(r\"http\\S*|\\S*\\.com\\S*|\\S*www\\S*\", \" \", text)\n",
        "    # eliminate @mentions\n",
        "    text = re.sub(r\"\\s@\\S+\", \" \", text)\n",
        "    # substitute all other punctuation with whitespace\n",
        "    text = replace.sub(\" \", text)\n",
        "    # replace all whitespace with a single space\n",
        "    text = re.sub(r\"\\s+\", \" \", text)\n",
        "    # strip off spaces on either end\n",
        "    text = text.strip()\n",
        "    words = text.split()\n",
        "    \n",
        "    cleaned_text = [w for w in words if len(w) > 2]\n",
        "    return \"\".join(cleaned_text)\n",
        "\n",
        "def generate_vocab(unprocessed):\n",
        "  # cleanup the text\n",
        "  processed = unprocessed.copy()\n",
        "  processed['text'] = processed['text'].apply(clean_text)\n",
        "\n",
        "  # generate a vocabulary\n",
        "  vocab = []\n",
        "  def add_to_vocab(text):\n",
        "    vocab.extend(text)\n",
        "\n",
        "  processed['text'].apply(add_to_vocab)\n",
        "\n",
        "  vocab = sorted(list(set(vocab)))\n",
        "  len(vocab)\n",
        "  vocab = dict((word, i) for i, word in enumerate(vocab))"
      ]
    },
    {
      "cell_type": "markdown",
      "metadata": {
        "id": "F2j98R4-rUjZ"
      },
      "source": [
        "#### Tokenization"
      ]
    },
    {
      "cell_type": "code",
      "execution_count": null,
      "metadata": {
        "id": "fX7k7HCcrUjZ"
      },
      "outputs": [],
      "source": [
        "from tokenizers import Tokenizer, Encoding, models, normalizers, pre_tokenizers, decoders, trainers, processors\n",
        "\n",
        "\n",
        "def train_tokenizer(data: pd.DataFrame) -> Tokenizer:\n",
        "    tokenizer = Tokenizer(models.Unigram())\n",
        "    tokenizer.normalizer = normalizers.BertNormalizer()\n",
        "    tokenizer.pre_tokenizer = pre_tokenizers.ByteLevel(add_prefix_space=False)\n",
        "    tokenizer.post_processor = processors.ByteLevel()\n",
        "    tokenizer.decoder = decoders.ByteLevel()\n",
        "\n",
        "    trainer = trainers.UnigramTrainer(\n",
        "        show_progress=True,\n",
        "        initial_alphabet=pre_tokenizers.ByteLevel.alphabet(),\n",
        "        special_tokens=[\"[PAD]\"]\n",
        "    )\n",
        "    tokenizer.train_from_iterator(data.text.tolist(), trainer=trainer)\n",
        "\n",
        "    tokenizer.enable_padding(\n",
        "        pad_id=tokenizer.token_to_id(\"[PAD]\"), pad_token=\"[PAD]\")\n",
        "    return tokenizer\n",
        "\n",
        "\n",
        "def load_tokenizer() -> Tokenizer:\n",
        "    return Tokenizer.from_file(\"data/tokenizer.json\")\n",
        "\n",
        "\n",
        "def save_tokenizer(tokenizer: Tokenizer):\n",
        "    tokenizer.save(\"data/tokenizer.json\")\n",
        "\n",
        "\n",
        "def convert_encoding_to_ids(encoded: List[Encoding]) -> np.ndarray:\n",
        "    return np.array([i.ids for i in encoded])\n"
      ]
    },
    {
      "cell_type": "code",
      "execution_count": null,
      "metadata": {
        "id": "jA2h17FdrUjZ"
      },
      "outputs": [],
      "source": [
        "def test_tokenizer():\n",
        "  unprocessed = read_goemotions(\"data/full_dataset\")\n",
        "  data = process_goemotions_dataset(unprocessed)\n",
        "  tokenizer = train_tokenizer(data)\n",
        "\n",
        "  encoded_lst = tokenizer.encode_batch([\"hello world 😘\", \"super\"])\n",
        "  encoded_ids = convert_encoding_to_ids(encoded_lst)\n",
        "  print(encoded_ids.shape)\n",
        "\n",
        "# test_tokenizer()\n",
        "# TODO X: Turn the tokenized text into a useable torch.tensor (will be used as input) (batch size x sequence length x embedding dimension)\n",
        "# TODO labels: Turn the parsed emotions into a useable torch.tensor (will be used as labels) (batch size x num emotions)\n",
        "# TODO Create utility for \"config\" like in assignments to store hyperparameters and \"dimensions\"\n"
      ]
    },
    {
      "cell_type": "markdown",
      "metadata": {
        "id": "M1jyqox2rUja"
      },
      "source": [
        "### Utility"
      ]
    },
    {
      "cell_type": "code",
      "execution_count": null,
      "metadata": {
        "id": "Vh0cASIorUja"
      },
      "outputs": [],
      "source": [
        "class AttrDict(dict):\n",
        "    def __init__(self, *args, **kwargs):\n",
        "        super(AttrDict, self).__init__(*args, **kwargs)\n",
        "        self.__dict__ = self\n",
        "\n",
        "\n",
        "def to_var(tensor, cuda):\n",
        "    \"\"\"Wraps a Tensor in a Variable, optionally placing it on the GPU.\n",
        "\n",
        "    Arguments:\n",
        "        tensor: A Tensor object.\n",
        "        cuda: A boolean flag indicating whether to use the GPU.\n",
        "\n",
        "    Returns:\n",
        "        A Variable object, on the GPU if cuda==True.\n",
        "    \"\"\"\n",
        "    if cuda:\n",
        "        return Variable(tensor.cuda())\n",
        "    else:\n",
        "        return Variable(tensor)\n",
        "\n",
        "\n",
        "def attr_dict_example_usage():\n",
        "  rnn_args_s = AttrDict()\n",
        "  args_dict = {\n",
        "      \"data_file_name\": \"pig_latin_small\",\n",
        "      \"cuda\": True,\n",
        "      \"nepochs\": 50,\n",
        "      \"checkpoint_dir\": \"checkpoints\",\n",
        "      \"learning_rate\": 0.005,\n",
        "      \"lr_decay\": 0.99,\n",
        "      \"early_stopping_patience\": 20,\n",
        "      \"batch_size\": 64,\n",
        "      \"hidden_size\": 32,\n",
        "      \"encoder_type\": \"rnn\",  # options: rnn / transformer\n",
        "      \"decoder_type\": \"rnn\",  # options: rnn / rnn_attention / transformer\n",
        "      \"attention_type\": \"\",   # options: additive / scaled_dot\n",
        "  }\n",
        "  rnn_args_s.update(args_dict)"
      ]
    },
    {
      "cell_type": "markdown",
      "metadata": {
        "id": "6Pe6l30LrUja"
      },
      "source": [
        "## Recurrent Neural Network\n"
      ]
    },
    {
      "cell_type": "code",
      "execution_count": null,
      "metadata": {
        "id": "-UHgQwQVrUja"
      },
      "outputs": [],
      "source": [
        "class EmoRNN(nn.Module):\n",
        "    \"\"\" The Neural Network Model that involves RNN layers. Its architecture is as follows:\n",
        "    * Embedding Layer (one-hot dim x embedding dim)\n",
        "    * RNN Layer (embedding dim x hidden dim -> hidden dim*2 x hidden dim)\n",
        "    * Linear Layer (hidden_dim x output dim)\n",
        "    \"\"\"\n",
        "\n",
        "    def __init__(self, vocab_size, hidden_size, seq_len, num_emotions, num_layers=1, nonlinearity='tanh', batch_first=True, bidirectional=True):\n",
        "        super(EmoRNN, self).__init__()\n",
        "\n",
        "        # important dimensions\n",
        "        self.hidden_size = hidden_size\n",
        "        self.vocab_size = vocab_size\n",
        "        self.output_size = num_emotions\n",
        "        self.seq_len = seq_len\n",
        "\n",
        "        # setup the embedding layer\n",
        "        self.embedding = nn.Embedding(\n",
        "            num_embeddings=vocab_size, embedding_dim=hidden_size)\n",
        "\n",
        "        # setup the RNN\n",
        "        self.rnn = nn.RNN(\n",
        "            input_size=self.hidden_size,\n",
        "            hidden_size=self.hidden_size,\n",
        "            num_layers=num_layers,\n",
        "            nonlinearity=nonlinearity,\n",
        "            bias=False,\n",
        "            batch_first=batch_first,\n",
        "            bidirectional=bidirectional\n",
        "        )\n",
        "\n",
        "        self.D = 2 if bidirectional else 1\n",
        "\n",
        "        self.classifier = nn.Linear(\n",
        "            in_features=self.hidden_size * self.D * self.seq_len,\n",
        "            out_features=self.output_size\n",
        "        )\n",
        "\n",
        "        self.softmax = nn.Softmax(dim=1)\n",
        "\n",
        "    def forward(self, input):\n",
        "        # TODO: finish\n",
        "        out = self.embedding(input)\n",
        "        out, _ = self.rnn(out)\n",
        "        out = self.classifier(\n",
        "            out.reshape(-1, self.hidden_size*self.D*self.seq_len))\n",
        "        out = self.softmax(out)\n",
        "        # print(out.size())\n",
        "        return out\n"
      ]
    },
    {
      "cell_type": "markdown",
      "metadata": {
        "id": "aWf8XceiSm8W"
      },
      "source": [
        "# Long Short-Term Memory Neural Network"
      ]
    },
    {
      "cell_type": "code",
      "execution_count": null,
      "metadata": {
        "id": "sFVXgSBxS3K1"
      },
      "outputs": [],
      "source": [
        "class EmoLSTM(nn.Module):\n",
        "    def __init__(self, vocab_size, hidden_size, seq_len, num_emotions, num_layers=1, nonlinearity='tanh', batch_first=True, bidirectional=True):\n",
        "        super(EmoLSTM, self).__init__()\n",
        "\n",
        "        # important dimensions\n",
        "        self.hidden_size = hidden_size\n",
        "        self.vocab_size = vocab_size\n",
        "        self.output_size = num_emotions\n",
        "        self.seq_len = seq_len\n",
        "\n",
        "        # setup the embedding layer\n",
        "        self.embedding = nn.Embedding(\n",
        "            num_embeddings=vocab_size, embedding_dim=hidden_size)\n",
        "\n",
        "        # setup the LSTM\n",
        "        self.lstm = nn.LSTM(\n",
        "            input_size=self.hidden_size,\n",
        "            hidden_size=self.hidden_size,\n",
        "            num_layers=num_layers,\n",
        "            bias=False,\n",
        "            batch_first=batch_first,\n",
        "            bidirectional=bidirectional\n",
        "        )\n",
        "\n",
        "        self.D = 2 if bidirectional else 1\n",
        "\n",
        "        self.classifier = nn.Linear(\n",
        "            in_features=self.hidden_size * self.D * self.seq_len,\n",
        "            out_features=self.output_size\n",
        "        )\n",
        "\n",
        "        self.softmax = nn.Softmax(dim=1)\n",
        "\n",
        "    def forward(self, input):\n",
        "        out = self.embedding(input)\n",
        "        out, _ = self.lstm(out)\n",
        "        out = self.classifier(\n",
        "            out.reshape(-1, self.hidden_size*self.D*self.seq_len))\n",
        "        out = self.softmax(out)\n",
        "        # print(out.size())\n",
        "        return out"
      ]
    },
    {
      "cell_type": "markdown",
      "metadata": {
        "id": "J56lTO0OSvjF"
      },
      "source": [
        "# Transformer"
      ]
    },
    {
      "cell_type": "code",
      "source": [
        "from transformers import BertModel\n",
        "import torch.nn as nn\n",
        "\n",
        "class BertForSentenceClassification(BertModel):\n",
        "    def __init__(self, config):\n",
        "        super().__init__(config)\n",
        "        \n",
        "        ##### START YOUR CODE HERE #####\n",
        "        # Add a linear classifier that map BERTs [CLS] token representation to the unnormalized\n",
        "        # output probabilities for each class (logits).\n",
        "        # Notes: \n",
        "        #  * See the documentation for torch.nn.Linear\n",
        "        #  * You do not need to add a softmax, as this is included in the loss function\n",
        "        #  * The size of BERTs token representation can be accessed at config.hidden_size\n",
        "        #  * The number of output classes can be accessed at config.num_labels\n",
        "        self.classifier = nn.Linear(config.hidden_size, config.num_labels)\n",
        "        ##### END YOUR CODE HERE #####\n",
        "        self.loss = torch.nn.CrossEntropyLoss()\n",
        "\n",
        "    def forward(self, labels=None, **kwargs):\n",
        "        outputs = super().forward(**kwargs)\n",
        "        ##### START YOUR CODE HERE #####\n",
        "        # Pass BERTs [CLS] token representation to this new classifier to produce the logits.\n",
        "        # Notes:\n",
        "        #  * The [CLS] token representation can be accessed at outputs.pooler_output\n",
        "        logits = self.classifier(outputs.pooler_output)\n",
        "        ##### END YOUR CODE HERE #####\n",
        "        if labels is not None:\n",
        "            outputs = (logits, self.loss(logits, labels))\n",
        "        else:\n",
        "            outputs = (logits,)\n",
        "        return outputs"
      ],
      "metadata": {
        "id": "X2sHobf7UcxZ"
      },
      "execution_count": null,
      "outputs": []
    },
    {
      "cell_type": "code",
      "execution_count": null,
      "metadata": {
        "id": "c_gVnpy13iqC"
      },
      "outputs": [],
      "source": [
        "from torch.optim import AdamW\n",
        "import time\n",
        "import datetime\n",
        "from transformers import get_linear_schedule_with_warmup\n",
        "from tqdm import tqdm\n",
        "\n",
        "def flat_accuracy(preds, labels):\n",
        "    pred_flat = np.argmax(preds, axis=1).flatten()\n",
        "    labels_flat = labels.flatten()\n",
        "    return np.sum(pred_flat == labels_flat) / len(labels_flat)\n",
        "\n",
        "def format_time(elapsed):\n",
        "    elapsed_rounded = int(round((elapsed)))\n",
        "    return str(datetime.timedelta(seconds=elapsed_rounded))\n",
        "\n",
        "def get_optimizer_and_scheduler(model, total_steps, lr=2e-5, weight_decay=0.01):\n",
        "    # Apply weight decay to all parameters beside the biases or LayerNorm weights\n",
        "    no_decay = ['bias', 'LayerNorm.weight']\n",
        "    optimizer_grouped_parameters = [\n",
        "        {\n",
        "            'params': [p for n, p in model.named_parameters() if not any(nd in n for nd in no_decay)],\n",
        "            'weight_decay': weight_decay},\n",
        "        {\n",
        "            'params': [p for n, p in model.named_parameters() if any(nd in n for nd in no_decay)],\n",
        "            'weight_decay': 0.0\n",
        "        }\n",
        "    ]\n",
        "    optimizer = AdamW(model.parameters(), lr=lr)\n",
        "    scheduler = get_linear_schedule_with_warmup(\n",
        "        optimizer,\n",
        "        # Warmup learning rate for first 10% of training steps\n",
        "        num_warmup_steps=int(0.10 * total_steps), \n",
        "        num_training_steps=total_steps,\n",
        "    )\n",
        "    return optimizer, scheduler\n",
        "\n",
        "def train_model(model, epochs, train_dataloader, validation_dataloader):\n",
        "    # Use GPU, if available\n",
        "    device = torch.device(\"cuda\" if torch.cuda.is_available() else \"cpu\")\n",
        "    model = model.to(device)\n",
        "\n",
        "    # Setup optimizer and LR scheduler \n",
        "    total_steps = len(train_dataloader) * epochs\n",
        "    optimizer, scheduler = get_optimizer_and_scheduler(\n",
        "        model, total_steps, lr=5e-5, weight_decay=0.01\n",
        "    )\n",
        "\n",
        "    loss_values = []\n",
        "    eval_accs = []\n",
        "\n",
        "    for epoch in range(0, epochs):\n",
        "        t0 = time.time()\n",
        "\n",
        "        total_loss = 0\n",
        "        model.train()\n",
        "\n",
        "        with tqdm(train_dataloader, unit=\"batch\") as train_pbar:\n",
        "            for batch in train_pbar:\n",
        "                train_pbar.set_description(f\"Training (epoch {epoch + 1})\")\n",
        "                b_input_ids = batch[0].to(device)\n",
        "                b_input_mask = batch[1].to(device)\n",
        "                b_labels = batch[2].to(device)\n",
        "\n",
        "                model.zero_grad()        \n",
        "\n",
        "                # Perform a forward pass (evaluate the model on this training batch).\n",
        "                # This will return the loss because we have provided the `labels`.\n",
        "                outputs = model(\n",
        "                    input_ids=b_input_ids, \n",
        "                    attention_mask=b_input_mask, \n",
        "                    labels=b_labels\n",
        "                )\n",
        "                \n",
        "                # The call to `model` always returns a tuple, so we need to pull the \n",
        "                # loss value out of the tuple.\n",
        "                _, loss = outputs\n",
        "\n",
        "                # Accumulate the training loss over all of the batches so that we can\n",
        "                # calculate the average loss at the end. `loss` is a Tensor containing a\n",
        "                # single value; the `.item()` function just returns the Python value \n",
        "                # from the tensor.\n",
        "                total_loss += loss.item()\n",
        "\n",
        "                # Perform a backward pass to calculate the gradients.\n",
        "                loss.backward()\n",
        "\n",
        "                # Clip the norm of the gradients to 1.0.\n",
        "                # This is to help prevent the \"exploding gradients\" problem.\n",
        "                torch.nn.utils.clip_grad_norm_(model.parameters(), 1.0)\n",
        "\n",
        "                # Update parameters and take a step using the computed gradient.\n",
        "                # The optimizer dictates the \"update rule\"--how the parameters are\n",
        "                # modified based on their gradients, the learning rate, etc.\n",
        "                optimizer.step()\n",
        "\n",
        "                # Update the learning rate.\n",
        "                scheduler.step()\n",
        "\n",
        "        # Calculate the average loss over the training data.\n",
        "        avg_train_loss = total_loss / len(train_dataloader)            \n",
        "        \n",
        "        # Store the loss value for plotting the learning curve.\n",
        "        loss_values.append(avg_train_loss)\n",
        "\n",
        "        print(\"  * Average training loss: {0:.2f}\".format(avg_train_loss))\n",
        "        print(\"  * Training epoch took: {:}\".format(format_time(time.time() - t0)))\n",
        "            \n",
        "        print(\"Running Validation...\")\n",
        "\n",
        "        t0 = time.time()\n",
        "        model.eval()\n",
        "\n",
        "        eval_loss, eval_accuracy = 0, 0\n",
        "        nb_eval_steps, nb_eval_examples = 0, 0\n",
        "\n",
        "        # Evaluate data for one epoch\n",
        "        for batch in validation_dataloader:\n",
        "            batch = tuple(t.to(device) for t in batch)\n",
        "            b_input_ids, b_input_mask, b_labels = batch\n",
        "            \n",
        "            with torch.no_grad():        \n",
        "                # Forward pass, calculate logit predictions.\n",
        "                # This will return the logits rather than the loss because we have\n",
        "                # not provided labels.\n",
        "                # token_type_ids is the same as the \"segment ids\", which \n",
        "                # differentiates sentence 1 and 2 in 2-sentence tasks.\n",
        "                outputs = model(\n",
        "                    input_ids=b_input_ids, \n",
        "                    attention_mask=b_input_mask\n",
        "                )\n",
        "            \n",
        "            # Get the \"logits\" output by the model. The \"logits\" are the output\n",
        "            # values prior to applying an activation function like the softmax.\n",
        "            logits = outputs[0]\n",
        "            # Move logits and labels to CPU\n",
        "            logits = logits.detach().cpu().numpy()\n",
        "            label_ids = b_labels.to('cpu').numpy()\n",
        "            # Calculate the accuracy for this batch of test sentences.\n",
        "            tmp_eval_accuracy = flat_accuracy(logits, label_ids)\n",
        "            # Accumulate the total accuracy.\n",
        "            eval_accuracy += tmp_eval_accuracy\n",
        "            # Track the number of batches\n",
        "            nb_eval_steps += 1\n",
        "\n",
        "        avg_eval_acc = eval_accuracy/nb_eval_steps\n",
        "        print(\"  * Accuracy: {0:.2f}\".format(avg_eval_acc))\n",
        "        print(\"  * Validation took: {:}\".format(format_time(time.time() - t0)))\n",
        "        eval_accs.append(avg_eval_acc)\n",
        "    print(\"Training complete!\")\n",
        "    return loss_values, eval_accs"
      ]
    },
    {
      "cell_type": "markdown",
      "metadata": {
        "id": "0UJqm2QMSfqZ"
      },
      "source": [
        "# Pre-process and Training"
      ]
    },
    {
      "cell_type": "code",
      "execution_count": 23,
      "metadata": {
        "id": "hlCAB25CrUjb"
      },
      "outputs": [],
      "source": [
        "device = torch.device(\"cuda\" if torch.cuda.is_available() else \"cpu\")\n",
        "\n",
        "def log_info(info, args=[], verbose=True):\n",
        "    if verbose:\n",
        "        print(info, *args)\n",
        "\n",
        "\n",
        "def get_d_labels(tokenizer: Tokenizer, data: pd.DataFrame, verbose=True):\n",
        "    log_info(\"Getting inputs and labels from dataset...\", verbose=verbose)\n",
        "    log_info(\"\\t getting batch from dataframe...\", verbose=verbose)\n",
        "\n",
        "    batch = data.text.tolist()\n",
        "\n",
        "    log_info(\"\\t encoding the batch...\", verbose=verbose)\n",
        "\n",
        "    encoded_lst = tokenizer.encode_batch(batch)\n",
        "\n",
        "    log_info(\"\\t converting Encoding objects to list of ids\", verbose=verbose)\n",
        "\n",
        "    encoded_ids = convert_encoding_to_ids(encoded_lst)\n",
        "\n",
        "    log_info(\"\\t getting labels from dataframe\", verbose=verbose)\n",
        "\n",
        "    labels = data.loc[:, EMOTION_GROUPS.keys()].to_numpy()\n",
        "    return encoded_ids, labels\n",
        "\n",
        "\n",
        "def train(opts):\n",
        "  # TODO: move all the logs into function calls so the train function doesnt look ugly :)\n",
        "    log_info(\"Reading dataset...\", verbose=opts.verbose)\n",
        "    unprocessed = read_goemotions(\"data/full_dataset\")\n",
        "    log_info(\"Preprocess dataset...\", verbose=opts.verbose)\n",
        "    data = process_goemotions_dataset(unprocessed)\n",
        "\n",
        "    if opts.train_tokenizer:\n",
        "        log_info(\"Training tokenizer...\")\n",
        "        tokenizer = train_tokenizer(data)\n",
        "        save_tokenizer(tokenizer)\n",
        "    else:\n",
        "        log_info(\"Loading tokenizer...\")\n",
        "        tokenizer = load_tokenizer()\n",
        "\n",
        "    d, labels = get_d_labels(tokenizer, data)\n",
        "\n",
        "    dataset_size, seq_len = d.shape\n",
        "    vocab_size = tokenizer.get_vocab_size()\n",
        "    dataset_size_2, num_emotions = labels.shape\n",
        "    \n",
        "    d = torch.from_numpy(d)\n",
        "    labels = torch.from_numpy(labels)\n",
        "\n",
        "    assert dataset_size == dataset_size_2\n",
        "\n",
        "    # model = EmoRNN(\n",
        "    #     vocab_size=vocab_size,\n",
        "    #     hidden_size=opts.hidden_size,\n",
        "    #     seq_len=seq_len,\n",
        "    #     num_emotions=num_emotions,\n",
        "    # )\n",
        "\n",
        "    model = EmoLSTM(\n",
        "        vocab_size=vocab_size,\n",
        "        hidden_size=opts.hidden_size,\n",
        "        seq_len=seq_len,\n",
        "        num_emotions=num_emotions,\n",
        "    )\n",
        "\n",
        "    # model = Net(\n",
        "    #     TEXT.vocab.vectors,\n",
        "    #     nhead=5,  # the number of heads in the multiheadattention models\n",
        "    #     dim_feedforward=50,  # the dimension of the feedforward network model in nn.TransformerEncoder\n",
        "    #     num_layers=6,\n",
        "    #     dropout=0.0,\n",
        "    #     classifier_dropout=0.0,\n",
        "    # ).to(device)\n",
        "\n",
        "    num_train = int(dataset_size * 0.8)\n",
        "    num_validation = int((dataset_size-num_train) * 0.5)\n",
        "    num_test = dataset_size - num_train - num_validation\n",
        "\n",
        "    train_d, val_d, test_d = d[:num_train], \\\n",
        "        d[num_train:num_train + num_validation], \\\n",
        "        d[num_train+num_validation:]\n",
        "    \n",
        "    train_labels, val_labels, test_labels = labels[:num_train], \\\n",
        "        labels[num_train:num_train + num_validation], \\\n",
        "        labels[num_train+num_validation:]\n",
        "    \n",
        "    train_dataset = torch.utils.data.TensorDataset(torch.tensor(train_d).type(\n",
        "        torch.LongTensor), torch.tensor(train_labels).type(torch.LongTensor))\n",
        "\n",
        "    train_loader = torch.utils.data.DataLoader(train_dataset, batch_size=512)\n",
        "\n",
        "    criterion = nn.CrossEntropyLoss()\n",
        "    optimizer = optim.Adam(model.parameters(), lr=opts.learning_rate)\n",
        "    \n",
        "    training_losses = []\n",
        "    validation_losses = []\n",
        "    test_losses = []\n",
        "    \n",
        "    training_accuracies = []\n",
        "    validation_accuracies = []\n",
        "    test_accuracies = []\n",
        "    \n",
        "    try:\n",
        "      model.train()\n",
        "      for epoch in range(opts.nepochs):\n",
        "          print(\"----------------------------------------------------------------------------------\")\n",
        "          print(f\"Epoch: {epoch}\")\n",
        "          \n",
        "          running_loss = 0\n",
        "          model.train()\n",
        "          \n",
        "          for sentences, labels in train_loader:\n",
        "              # sentences, labels = sentences.to(device), labels.to(device)            \n",
        "              optimizer.zero_grad()\n",
        "              pred = model.forward(sentences)\n",
        "              labels = labels.type(torch.FloatTensor)\n",
        "              loss = criterion(pred, labels)\n",
        "              loss.backward()\n",
        "              optimizer.step()\n",
        "\n",
        "              running_loss += loss.item()\n",
        "          else:\n",
        "              model.eval() \n",
        "              # sentences, labels = sentences.to(device), labels.to(device)\n",
        "              \n",
        "              with torch.no_grad():\n",
        "                  training_losses.append(running_loss/len(train_loader))\n",
        "                  # training_accuracies.append(\n",
        "                  #     torch.ceil(pred & labels).sum() / num_train)\n",
        "                  \n",
        "                  pred = model(val_d)\n",
        "                  val_labels = val_labels.type(torch.FloatTensor)\n",
        "                  validation_losses.append(criterion(pred, val_labels))\n",
        "                  # validation_accuracies.append(\n",
        "                  #     torch.ceil(pred & val_labels).sum() / num_validation)\n",
        "                  \n",
        "                  pred = model(test_d)\n",
        "                  test_labels = test_labels.type(torch.FloatTensor)\n",
        "                  test_losses.append(criterion(pred, test_labels))\n",
        "                  # validation_accuracies.append(\n",
        "                  #     torch.ceil(pred & test_labels).sum() / num_test)\n",
        "              print(f\"training loss: {training_losses[-1]}, validation loss: {validation_losses[-1]}, test loss: {test_losses[-1]}\")\n",
        "              # print(f\"training accuracy: {training_accuracies[-1]}, validation accuracy: {validation_accuracies[-1]}, training accuracy: {test_accuracies[-1]}\")\n",
        "    except KeyboardInterrupt:\n",
        "      print(\"Exiting early from training.\")\n",
        "\n",
        "    losses = [training_losses, validation_losses, test_losses]\n",
        "    accuracies = [training_accuracies, validation_accuracies, test_accuracies]\n",
        "    return model, losses, accuracies\n"
      ]
    },
    {
      "cell_type": "code",
      "execution_count": null,
      "metadata": {
        "colab": {
          "background_save": true,
          "base_uri": "https://localhost:8080/"
        },
        "id": "n67vgThOrUjd",
        "outputId": "f4ca9f78-21d8-47aa-b69f-f3eb4f3e7f4c"
      },
      "outputs": [
        {
          "output_type": "stream",
          "name": "stdout",
          "text": [
            "Reading dataset...\n",
            "Preprocess dataset...\n",
            "Training tokenizer...\n",
            "Getting inputs and labels from dataset...\n",
            "\t getting batch from dataframe...\n",
            "\t encoding the batch...\n",
            "\t converting Encoding objects to list of ids\n",
            "\t getting labels from dataframe\n"
          ]
        },
        {
          "output_type": "stream",
          "name": "stderr",
          "text": [
            "/usr/local/lib/python3.7/dist-packages/ipykernel_launcher.py:85: UserWarning: To copy construct from a tensor, it is recommended to use sourceTensor.clone().detach() or sourceTensor.clone().detach().requires_grad_(True), rather than torch.tensor(sourceTensor).\n",
            "/usr/local/lib/python3.7/dist-packages/ipykernel_launcher.py:86: UserWarning: To copy construct from a tensor, it is recommended to use sourceTensor.clone().detach() or sourceTensor.clone().detach().requires_grad_(True), rather than torch.tensor(sourceTensor).\n"
          ]
        },
        {
          "output_type": "stream",
          "name": "stdout",
          "text": [
            "----------------------------------------------------------------------------------\n",
            "Epoch: 0\n",
            "training loss: 1.770966266055365, validation loss: 1.761897325515747, test loss: 1.7666378021240234\n",
            "----------------------------------------------------------------------------------\n",
            "Epoch: 1\n",
            "training loss: 1.7619895000715513, validation loss: 1.7528631687164307, test loss: 1.7567628622055054\n",
            "----------------------------------------------------------------------------------\n",
            "Epoch: 2\n"
          ]
        }
      ],
      "source": [
        "rnn_args_s = AttrDict()\n",
        "args_dict = {\n",
        "    \"train_tokenizer\": True,\n",
        "    \"hidden_size\": 16,\n",
        "    \"learning_rate\": 0.0001,\n",
        "    \"nepochs\": 20,\n",
        "    \"verbose\": True\n",
        "}\n",
        "rnn_args_s.update(args_dict)\n",
        "model, losses, accuracies = train(rnn_args_s)\n",
        "print(losses)\n",
        "print(accuracies)"
      ]
    },
    {
      "cell_type": "code",
      "source": [
        "# Plot\n",
        "plt.plot(losses[0], label = 'training loss')\n",
        "plt.xlabel(\"Epoch\")\n",
        "plt.ylabel(\"Loss\")\n",
        "plt.show()"
      ],
      "metadata": {
        "colab": {
          "base_uri": "https://localhost:8080/",
          "height": 388
        },
        "id": "x0-ul5ruUA8s",
        "outputId": "19247f72-0754-40dd-f2eb-2336afef0a19"
      },
      "execution_count": 22,
      "outputs": [
        {
          "output_type": "display_data",
          "data": {
            "text/plain": [
              "<Figure size 864x432 with 1 Axes>"
            ],
            "image/png": "[encoded data removed]"
          },
          "metadata": {
            "needs_background": "light"
          }
        }
      ]
    }
  ],
  "metadata": {
    "colab": {
      "collapsed_sections": [],
      "name": "Emotion Detector.ipynb",
      "provenance": []
    },
    "interpreter": {
      "hash": "f88f306bc62a62c93cabf63d204394d17623b24d28dfa96873d8dc1f24713453"
    },
    "kernelspec": {
      "display_name": "Python 3.10.0 ('pythonProject')",
      "language": "python",
      "name": "python3"
    },
    "language_info": {
      "codemirror_mode": {
        "name": "ipython",
        "version": 3
      },
      "file_extension": ".py",
      "mimetype": "text/x-python",
      "name": "python",
      "nbconvert_exporter": "python",
      "pygments_lexer": "ipython3",
      "version": "3.10.0"
    }
  },
  "nbformat": 4,
  "nbformat_minor": 0
}